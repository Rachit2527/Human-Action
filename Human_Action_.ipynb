{
  "nbformat": 4,
  "nbformat_minor": 0,
  "metadata": {
    "colab": {
      "provenance": [],
      "gpuType": "T4"
    },
    "kernelspec": {
      "name": "python3",
      "display_name": "Python 3"
    },
    "language_info": {
      "name": "python"
    },
    "accelerator": "GPU"
  },
  "cells": [
    {
      "cell_type": "code",
      "execution_count": null,
      "metadata": {
        "id": "JSUerMkoxxoM"
      },
      "outputs": [],
      "source": [
        "!mkdir -p ~/.kaggle\n",
        "!cp kaggle.json ~/.kaggle/"
      ]
    },
    {
      "cell_type": "code",
      "source": [
        "!kaggle datasets download -d shashankrapolu/human-action-recognition-dataset"
      ],
      "metadata": {
        "colab": {
          "base_uri": "https://localhost:8080/"
        },
        "id": "hjD1Tsu8xybD",
        "outputId": "e0d67822-5b26-41a6-9ff2-59a6438f0bda"
      },
      "execution_count": null,
      "outputs": [
        {
          "output_type": "stream",
          "name": "stdout",
          "text": [
            "Warning: Your Kaggle API key is readable by other users on this system! To fix this, you can run 'chmod 600 /root/.kaggle/kaggle.json'\n",
            "Downloading human-action-recognition-dataset.zip to /content\n",
            " 90% 187M/208M [00:01<00:00, 130MB/s]\n",
            "100% 208M/208M [00:01<00:00, 127MB/s]\n"
          ]
        }
      ]
    },
    {
      "cell_type": "code",
      "source": [
        "import zipfile\n",
        "zip_ref = zipfile.ZipFile('/content/human-action-recognition-dataset.zip', 'r')\n",
        "zip_ref.extractall('/content')\n",
        "zip_ref.close()"
      ],
      "metadata": {
        "id": "SxKcTB5oxydX"
      },
      "execution_count": null,
      "outputs": []
    },
    {
      "cell_type": "code",
      "source": [
        "train_path = \"/content/Structured/train\"\n",
        "test_path  = \"/content/Structured/test\""
      ],
      "metadata": {
        "id": "I4ABDw9nyvzi"
      },
      "execution_count": null,
      "outputs": []
    },
    {
      "cell_type": "code",
      "source": [
        "import numpy as mp\n",
        "import pandas as pd\n",
        "import matplotlib.pyplot as plt\n",
        "import seaborn as sns\n",
        "import cv2\n",
        "from google.colab.patches import cv2_imshow"
      ],
      "metadata": {
        "id": "-lzdlweezii3"
      },
      "execution_count": null,
      "outputs": []
    },
    {
      "cell_type": "code",
      "source": [
        "from keras.models import Sequential\n",
        "from keras.layers import Conv2D,MaxPooling2D,Activation,Dropout,Flatten,Dense"
      ],
      "metadata": {
        "id": "NboTfYqs0AYb"
      },
      "execution_count": null,
      "outputs": []
    },
    {
      "cell_type": "code",
      "source": [
        "model = Sequential()\n",
        "\n",
        "model.add(Conv2D(128,kernel_size =(3,3),padding='valid',activation='relu',input_shape=(179,281,3)))\n",
        "\n",
        "\n",
        "model.add(Conv2D(64,kernel_size =(3,3),padding='valid',activation='relu'))\n",
        "model.add(MaxPooling2D(pool_size =(2,2),strides =2,padding='valid'))\n",
        "\n",
        "\n",
        "model.add(Conv2D(32,kernel_size =(3,3),padding='valid',activation='relu'))\n",
        "model.add(MaxPooling2D(pool_size =(2,2),strides =2,padding='valid'))\n",
        "model.add(Dropout(0.5))\n",
        "\n",
        "\n",
        "\n",
        "model.add(Flatten())\n",
        "\n",
        "model.add(Dense(5000,activation='relu'))\n",
        "\n",
        "model.add(Dense(1000,activation='relu'))\n",
        "\n",
        "model.add(Dense(15,activation='softmax'))\n",
        "model.summary()"
      ],
      "metadata": {
        "colab": {
          "base_uri": "https://localhost:8080/"
        },
        "id": "1NZOhK9M0Ehm",
        "outputId": "a0e7b5c2-8225-457e-fb92-8e7146d4efca"
      },
      "execution_count": null,
      "outputs": [
        {
          "output_type": "stream",
          "name": "stdout",
          "text": [
            "Model: \"sequential_1\"\n",
            "_________________________________________________________________\n",
            " Layer (type)                Output Shape              Param #   \n",
            "=================================================================\n",
            " conv2d_3 (Conv2D)           (None, 177, 279, 128)     3584      \n",
            "                                                                 \n",
            " conv2d_4 (Conv2D)           (None, 175, 277, 64)      73792     \n",
            "                                                                 \n",
            " max_pooling2d_2 (MaxPooling  (None, 87, 138, 64)      0         \n",
            " 2D)                                                             \n",
            "                                                                 \n",
            " conv2d_5 (Conv2D)           (None, 85, 136, 32)       18464     \n",
            "                                                                 \n",
            " max_pooling2d_3 (MaxPooling  (None, 42, 68, 32)       0         \n",
            " 2D)                                                             \n",
            "                                                                 \n",
            " dropout_1 (Dropout)         (None, 42, 68, 32)        0         \n",
            "                                                                 \n",
            " flatten_1 (Flatten)         (None, 91392)             0         \n",
            "                                                                 \n",
            " dense_3 (Dense)             (None, 5000)              456965000 \n",
            "                                                                 \n",
            " dense_4 (Dense)             (None, 1000)              5001000   \n",
            "                                                                 \n",
            " dense_5 (Dense)             (None, 15)                15015     \n",
            "                                                                 \n",
            "=================================================================\n",
            "Total params: 462,076,855\n",
            "Trainable params: 462,076,855\n",
            "Non-trainable params: 0\n",
            "_________________________________________________________________\n"
          ]
        }
      ]
    },
    {
      "cell_type": "code",
      "source": [
        "model.compile(loss = \"categorical_crossentropy\" ,optimizer = \"SGD\" ,metrics = ['accuracy'])"
      ],
      "metadata": {
        "id": "00BVXNKB0Qc0"
      },
      "execution_count": null,
      "outputs": []
    },
    {
      "cell_type": "code",
      "source": [
        "model.compile(loss = \"categorical_crossentropy\" ,optimizer = \"SGD\" ,metrics = ['accuracy'])\n",
        "from keras.preprocessing.image import ImageDataGenerator\n",
        "train_datagen = ImageDataGenerator(\n",
        "                    rescale =1./255,\n",
        "                    shear_range=0.3,\n",
        "                    zoom_range=0.3,\n",
        "                    horizontal_flip=True,\n",
        "                    fill_mode='nearest'\n",
        "\n",
        ")\n",
        "\n",
        "test_datagen  = ImageDataGenerator (\n",
        "                      rescale =1./255\n",
        ")\n",
        "\n",
        "train_generator = train_datagen.flow_from_directory(\n",
        "    train_path,\n",
        "    color_mode = 'rgb',\n",
        "\n",
        "    batch_size=32,\n",
        "    target_size=(179,281),\n",
        "    class_mode='categorical',\n",
        "    shuffle=True\n",
        ")\n",
        "\n",
        "test_generator = test_datagen.flow_from_directory(\n",
        "    test_path,\n",
        "    color_mode = 'rgb',\n",
        "\n",
        "    batch_size=32,\n",
        "    target_size=(179,281),\n",
        "    class_mode='categorical',\n",
        "    shuffle=True\n",
        ")\n",
        "history = model.fit(train_generator,\n",
        "\n",
        "                    epochs=5,\n",
        "                    validation_data=test_generator,\n",
        "                    )\n",
        "\n"
      ],
      "metadata": {
        "colab": {
          "base_uri": "https://localhost:8080/"
        },
        "id": "mPB31pdi0c7B",
        "outputId": "bcdd3443-2cf8-4ab0-9c34-9b2b49535937"
      },
      "execution_count": null,
      "outputs": [
        {
          "output_type": "stream",
          "name": "stdout",
          "text": [
            "Found 10710 images belonging to 15 classes.\n",
            "Found 1890 images belonging to 15 classes.\n",
            "Epoch 1/5\n",
            "335/335 [==============================] - 200s 548ms/step - loss: 2.6782 - accuracy: 0.0941 - val_loss: 2.5808 - val_accuracy: 0.1513\n",
            "Epoch 2/5\n",
            "335/335 [==============================] - 179s 533ms/step - loss: 2.5685 - accuracy: 0.1405 - val_loss: 2.4451 - val_accuracy: 0.2016\n",
            "Epoch 3/5\n",
            "335/335 [==============================] - 177s 526ms/step - loss: 2.4594 - accuracy: 0.1924 - val_loss: 2.3412 - val_accuracy: 0.2519\n",
            "Epoch 4/5\n",
            "335/335 [==============================] - 175s 521ms/step - loss: 2.3622 - accuracy: 0.2293 - val_loss: 2.2707 - val_accuracy: 0.2545\n",
            "Epoch 5/5\n",
            "335/335 [==============================] - 174s 519ms/step - loss: 2.2915 - accuracy: 0.2602 - val_loss: 2.1865 - val_accuracy: 0.2815\n"
          ]
        }
      ]
    },
    {
      "cell_type": "code",
      "source": [
        "import numpy as np\n",
        "import pandas as pd"
      ],
      "metadata": {
        "id": "fxlXf2gh0o_r"
      },
      "execution_count": null,
      "outputs": []
    },
    {
      "cell_type": "code",
      "source": [
        "test_img = cv2.imread('/content/Rachit2.jpeg')\n",
        "test_img = cv2.resize(test_img,(179,281))\n",
        "test_input1 = test_img.reshape((1,179,281,3))\n",
        "prediction = model.predict(test_input1)\n",
        "pred_label = np.argmax(prediction)\n",
        "print(pred_label)"
      ],
      "metadata": {
        "colab": {
          "base_uri": "https://localhost:8080/"
        },
        "id": "MBgYRDl113cQ",
        "outputId": "6389b65e-d387-4d28-b370-b93253b01b43"
      },
      "execution_count": null,
      "outputs": [
        {
          "output_type": "stream",
          "name": "stdout",
          "text": [
            "1/1 [==============================] - 0s 374ms/step\n",
            "2\n"
          ]
        }
      ]
    },
    {
      "cell_type": "code",
      "source": [
        "import os\n",
        "folder = '/content/Structured/test'\n",
        "sub_folder = [name for name in os.listdir(folder) if os.path.isdir(os.path.join(folder,name))]"
      ],
      "metadata": {
        "id": "cpwJyKft2INj"
      },
      "execution_count": null,
      "outputs": []
    },
    {
      "cell_type": "code",
      "source": [
        "sub_folder[2]"
      ],
      "metadata": {
        "colab": {
          "base_uri": "https://localhost:8080/",
          "height": 35
        },
        "id": "oh8XUeP42IT-",
        "outputId": "ea3191c9-56d6-4f1d-e0a9-d099c9e05af2"
      },
      "execution_count": null,
      "outputs": [
        {
          "output_type": "execute_result",
          "data": {
            "text/plain": [
              "'hugging'"
            ],
            "application/vnd.google.colaboratory.intrinsic+json": {
              "type": "string"
            }
          },
          "metadata": {},
          "execution_count": 20
        }
      ]
    },
    {
      "cell_type": "code",
      "source": [],
      "metadata": {
        "id": "37L0IEKw5F4v"
      },
      "execution_count": null,
      "outputs": []
    }
  ]
}